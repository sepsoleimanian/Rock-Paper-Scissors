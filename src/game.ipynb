{
 "cells": [
  {
   "cell_type": "code",
   "execution_count": 1,
   "id": "e5212854",
   "metadata": {},
   "outputs": [],
   "source": [
    "import random\n",
    "\n",
    "class RockPaperScissors:\n",
    "  def __init__(self, name):\n",
    "    self.choices = ['rock', 'paper', 'scissors']\n",
    "    self.player_name = name \n",
    "    \n",
    "  def get_player_choice(self):\n",
    "    user_choice = input(f'Enter your choice {[self.choices]}')\n",
    "    if user_choice.lower() in self.choices:\n",
    "      return user_choice.lower()\n",
    "    else:\n",
    "      print(f'invalide choice. you must select from {[self.choices]}')\n",
    "      return self.get_player_choice()\n",
    "    \n",
    "  def get_computer_choice(self):\n",
    "    return random.choice(self.choices)\n",
    "    \n",
    "  def decide_winner(self, user_choice, computer_choice):\n",
    "    if user_choice == computer_choice:\n",
    "      return \"it's a tie!\"\n",
    "    win_combinations = [('rock, paper'), ('paper', 'scissors'), ('scissors', 'paper')]\n",
    "    for win_comb in win_combinations:\n",
    "      if (user_choice == win_comb[0]) & (computer_choice == win_comb[1]):\n",
    "        return \"Congrats! You won.\"\n",
    "      else:\n",
    "        return \"The Computer Won!\"\n",
    "\n",
    "\n",
    "  def play(self):\n",
    "    user_choice = self.get_player_choice()\n",
    "    computer_choice = self.get_computer_choice()\n",
    "    winner_msg = self.decide_winner(user_choice, computer_choice)\n",
    "    print(user_choice, computer_choice)\n",
    "    print(winner_msg)"
   ]
  },
  {
   "cell_type": "markdown",
   "id": "1b0e13a9",
   "metadata": {},
   "source": [
    "- get player choice\n",
    "- get pc choice\n",
    "- get winner\n",
    "- print winner\n",
    "- play again\n"
   ]
  },
  {
   "cell_type": "code",
   "execution_count": 3,
   "id": "9096f2ae",
   "metadata": {},
   "outputs": [
    {
     "name": "stdout",
     "output_type": "stream",
     "text": [
      "invalide choice. you must select from [['rock', 'paper', 'scissors']]\n",
      "rock scissors\n",
      "The Computer Won!\n",
      "paper paper\n",
      "it's a tie!\n",
      "Bye Bye\n"
     ]
    }
   ],
   "source": [
    "game = RockPaperScissors('sep')\n",
    "\n",
    "while True:\n",
    "  game.play()\n",
    "  \n",
    "  continue_game = input(\"Do you want to play again? y/n\")\n",
    "  if continue_game.lower() == 'y':\n",
    "    continue\n",
    "  if continue_game.lower() == 'n':\n",
    "    print(\"Bye Bye\")\n",
    "    break\n",
    "  else:\n",
    "    print('invalid input. please choose y/n.')\n",
    "    continue"
   ]
  },
  {
   "cell_type": "code",
   "execution_count": null,
   "metadata": {},
   "outputs": [],
   "source": [
    "\n"
   ]
  },
  {
   "cell_type": "code",
   "execution_count": null,
   "id": "2493ba18",
   "metadata": {},
   "outputs": [],
   "source": []
  }
 ],
 "metadata": {
  "kernelspec": {
   "display_name": "work",
   "language": "python",
   "name": "python3"
  },
  "language_info": {
   "codemirror_mode": {
    "name": "ipython",
    "version": 3
   },
   "file_extension": ".py",
   "mimetype": "text/x-python",
   "name": "python",
   "nbconvert_exporter": "python",
   "pygments_lexer": "ipython3",
   "version": "3.11.13"
  }
 },
 "nbformat": 4,
 "nbformat_minor": 5
}
